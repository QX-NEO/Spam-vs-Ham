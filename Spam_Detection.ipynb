{
 "cells": [
  {
   "cell_type": "markdown",
   "metadata": {},
   "source": [
    "<a id='top'></a>\n",
    "\n",
    "### Assignment: Spam Detection\n",
    "\n",
    "- <a href='#preprocessingbagofwords'>Preprocessing for Bag Of Words</a>\n",
    "\n",
    "- <a href='#modelselectionbagofwords'>Model Selection for Bag Of Words</a>\n",
    "\n",
    "- <a href='#preprocessingtfidf'>Preprocessing for Tfidf</a>\n",
    "\n",
    "- <a href='#modelselectiontfidf'>Model Selection for Tfidf</a>\n",
    "\n",
    "- <a href='#optimization'>Optimization</a>"
   ]
  },
  {
   "cell_type": "code",
   "execution_count": 14,
   "metadata": {},
   "outputs": [],
   "source": [
    "import numpy as np\n",
    "import pandas as pd\n",
    "import seaborn as sb\n",
    "import matplotlib.pyplot as plt\n",
    "import nltk\n",
    "import re\n",
    "\n",
    "# preprocessing\n",
    "from sklearn.feature_extraction.text import CountVectorizer, TfidfTransformer\n",
    "from scipy.sparse import csr_matrix\n",
    "\n",
    "# model selection\n",
    "from sklearn.model_selection import train_test_split, GridSearchCV\n",
    "from sklearn.ensemble import RandomForestClassifier\n",
    "from sklearn.tree import DecisionTreeClassifier\n",
    "\n",
    "# metrics and visualization\n",
    "from sklearn.metrics import accuracy_score, confusion_matrix, auc, roc_curve\n",
    "\n",
    "sb.set()"
   ]
  },
  {
   "cell_type": "code",
   "execution_count": 2,
   "metadata": {},
   "outputs": [],
   "source": [
    "def fix_heatmap(title):\n",
    "    bottom, top = plt.ylim()\n",
    "    bottom += 0.5 \n",
    "    top -= 0.5\n",
    "    plt.ylim(bottom, top)\n",
    "    plt.title(f'Confusion Matrix for {title}')\n",
    "    plt.ylabel('True label')\n",
    "    plt.xlabel('Predicted label')\n",
    "    plt.show()\n",
    "def summarize(results):\n",
    "    return pd.DataFrame(list(zip(results['title'], results['accuracy'], results['ravel'],\n",
    "                                 results['PPV'], results['NPV'], results['auc'])),\n",
    "                        columns = ['Titles', 'Classif Acc', 'TN, FP, FN, TP', 'PPV', 'NPV', 'AUC'])"
   ]
  },
  {
   "cell_type": "code",
   "execution_count": 3,
   "metadata": {},
   "outputs": [],
   "source": [
    "def analyze(y_true, y_pred, X_test, model, results, title):\n",
    "    cm = confusion_matrix(y_true, y_pred)\n",
    "    sb.heatmap(cm, annot = True, fmt=\".0f\", annot_kws={\"size\": 18}, \n",
    "               xticklabels = ['good', 'spam'], yticklabels = ['good', 'spam'])\n",
    "    fix_heatmap(title)\n",
    "    tn, fp, fn, tp = cm.ravel()\n",
    "    ppv = np.round(tp / (tp + fp), 3)\n",
    "    npv = np.round(tn / (tn + fn), 3)\n",
    "    \n",
    "    results['accuracy'].append(np.round(accuracy_score(y_true, y_pred), 3))\n",
    "    results['ravel'].append(cm.ravel())\n",
    "    results['PPV'].append(ppv)\n",
    "    results['NPV'].append(npv)\n",
    "\n",
    "    results['title'].append(title)\n",
    "    \n",
    "    area_under_curve = visualize_roc(y_true, X_test, model, title)\n",
    "    results['auc'].append(area_under_curve)\n",
    "    \n",
    "    return results"
   ]
  },
  {
   "cell_type": "code",
   "execution_count": 4,
   "metadata": {},
   "outputs": [],
   "source": [
    "def visualize_roc(y_true, X_test, model, title):\n",
    "    fpr, tpr, thr = roc_curve(y_true, model.predict_proba(X_test)[:,1], pos_label = 'spam')\n",
    "    plt.figure(figsize=(5, 5))\n",
    "    plt.plot(fpr, tpr)\n",
    "    plt.xlabel('False Positive Rate')\n",
    "    plt.ylabel('True Positive Rate')\n",
    "    plt.title(f'ROC for {title}')\n",
    "    area_under_curve = auc(fpr, tpr)\n",
    "    plt.legend([\"AUC {0:.2f}\".format(area_under_curve)])\n",
    "    plt.show()\n",
    "    return round(area_under_curve, 3)"
   ]
  },
  {
   "cell_type": "code",
   "execution_count": 5,
   "metadata": {},
   "outputs": [],
   "source": [
    "def run_model(features, response, model, results, title):\n",
    "    X_train, X_test, y_train, y_test = train_test_split(features, response, test_size = 0.25, \n",
    "                                                        random_state = 1)\n",
    "    model.fit(X_train, y_train)\n",
    "    y_test_pred = model.predict(X_test)\n",
    "    \n",
    "    results = analyze(y_test, y_test_pred, X_test, model, results, title)\n",
    "    summary = summarize(results)\n",
    "    results['summary'] = summary\n",
    "    return results"
   ]
  },
  {
   "cell_type": "markdown",
   "metadata": {},
   "source": [
    "<a id='preprocess()'></a>\n",
    "<a href='#top'>Back to top</a>"
   ]
  },
  {
   "cell_type": "code",
   "execution_count": 6,
   "metadata": {},
   "outputs": [],
   "source": [
    "def preprocess(text):\n",
    "    # lower case and remove special characters\\whitespaces\n",
    "    # re.I ignore cases, re.A ASCII onl matching\n",
    "    text = re.sub(r'[^a-zA-Z\\s]', '', text, re.I|re.A)\n",
    "    text = text.lower()\n",
    "    text = text.strip()\n",
    "    \n",
    "    tokenizer = nltk.WordPunctTokenizer()\n",
    "    lemmatizer = nltk.stem.WordNetLemmatizer()\n",
    "    stemmer = nltk.stem.PorterStemmer()\n",
    "    stop_words = nltk.corpus.stopwords.words('english')\n",
    "\n",
    "    tokens = tokenizer.tokenize(text)\n",
    "    # filter stopwords out of text\n",
    "    filtered_tokens = [token for token in tokens if token not in stop_words]\n",
    "    # re-create text from filtered tokens\n",
    "    text = ' '.join(filtered_tokens)\n",
    "    # reduce each word to root form\n",
    "    # for example, running and ran becomes run\n",
    "    lemmatized_text = lemmatizer.lemmatize(text, pos = 'v')\n",
    "    stemmed_text = stemmer.stem(lemmatized_text)\n",
    "    # 2 extra features\n",
    "    num_words = len(filtered_tokens)\n",
    "    num_letters = len(text)\n",
    "    \n",
    "    return stemmed_text, num_words, num_letters"
   ]
  },
  {
   "cell_type": "code",
   "execution_count": 7,
   "metadata": {},
   "outputs": [
    {
     "data": {
      "text/html": [
       "<div>\n",
       "<style scoped>\n",
       "    .dataframe tbody tr th:only-of-type {\n",
       "        vertical-align: middle;\n",
       "    }\n",
       "\n",
       "    .dataframe tbody tr th {\n",
       "        vertical-align: top;\n",
       "    }\n",
       "\n",
       "    .dataframe thead th {\n",
       "        text-align: right;\n",
       "    }\n",
       "</style>\n",
       "<table border=\"1\" class=\"dataframe\">\n",
       "  <thead>\n",
       "    <tr style=\"text-align: right;\">\n",
       "      <th></th>\n",
       "      <th>0</th>\n",
       "      <th>1</th>\n",
       "    </tr>\n",
       "  </thead>\n",
       "  <tbody>\n",
       "    <tr>\n",
       "      <td>0</td>\n",
       "      <td>good</td>\n",
       "      <td>Go until jurong point, crazy.. Available only ...</td>\n",
       "    </tr>\n",
       "    <tr>\n",
       "      <td>1</td>\n",
       "      <td>good</td>\n",
       "      <td>Ok lar... Joking wif u oni...</td>\n",
       "    </tr>\n",
       "    <tr>\n",
       "      <td>2</td>\n",
       "      <td>spam</td>\n",
       "      <td>Free entry in 2 a wkly comp to win FA Cup fina...</td>\n",
       "    </tr>\n",
       "    <tr>\n",
       "      <td>3</td>\n",
       "      <td>good</td>\n",
       "      <td>U dun say so early hor... U c already then say...</td>\n",
       "    </tr>\n",
       "    <tr>\n",
       "      <td>4</td>\n",
       "      <td>good</td>\n",
       "      <td>Nah I don't think he goes to usf, he lives aro...</td>\n",
       "    </tr>\n",
       "  </tbody>\n",
       "</table>\n",
       "</div>"
      ],
      "text/plain": [
       "      0                                                  1\n",
       "0  good  Go until jurong point, crazy.. Available only ...\n",
       "1  good                      Ok lar... Joking wif u oni...\n",
       "2  spam  Free entry in 2 a wkly comp to win FA Cup fina...\n",
       "3  good  U dun say so early hor... U c already then say...\n",
       "4  good  Nah I don't think he goes to usf, he lives aro..."
      ]
     },
     "execution_count": 7,
     "metadata": {},
     "output_type": "execute_result"
    }
   ],
   "source": [
    "# Read the dataset as per the format\n",
    "# response label <tab> sms as string\n",
    "smsData = pd.read_table('smsdata.txt', sep = \"\\t\", header = None)\n",
    "smsData.head()"
   ]
  },
  {
   "cell_type": "code",
   "execution_count": 8,
   "metadata": {},
   "outputs": [
    {
     "data": {
      "text/html": [
       "<div>\n",
       "<style scoped>\n",
       "    .dataframe tbody tr th:only-of-type {\n",
       "        vertical-align: middle;\n",
       "    }\n",
       "\n",
       "    .dataframe tbody tr th {\n",
       "        vertical-align: top;\n",
       "    }\n",
       "\n",
       "    .dataframe thead th {\n",
       "        text-align: right;\n",
       "    }\n",
       "</style>\n",
       "<table border=\"1\" class=\"dataframe\">\n",
       "  <thead>\n",
       "    <tr style=\"text-align: right;\">\n",
       "      <th></th>\n",
       "      <th>label</th>\n",
       "      <th>text</th>\n",
       "    </tr>\n",
       "  </thead>\n",
       "  <tbody>\n",
       "    <tr>\n",
       "      <td>0</td>\n",
       "      <td>good</td>\n",
       "      <td>Go until jurong point, crazy.. Available only ...</td>\n",
       "    </tr>\n",
       "    <tr>\n",
       "      <td>1</td>\n",
       "      <td>good</td>\n",
       "      <td>Ok lar... Joking wif u oni...</td>\n",
       "    </tr>\n",
       "    <tr>\n",
       "      <td>2</td>\n",
       "      <td>spam</td>\n",
       "      <td>Free entry in 2 a wkly comp to win FA Cup fina...</td>\n",
       "    </tr>\n",
       "    <tr>\n",
       "      <td>3</td>\n",
       "      <td>good</td>\n",
       "      <td>U dun say so early hor... U c already then say...</td>\n",
       "    </tr>\n",
       "    <tr>\n",
       "      <td>4</td>\n",
       "      <td>good</td>\n",
       "      <td>Nah I don't think he goes to usf, he lives aro...</td>\n",
       "    </tr>\n",
       "  </tbody>\n",
       "</table>\n",
       "</div>"
      ],
      "text/plain": [
       "  label                                               text\n",
       "0  good  Go until jurong point, crazy.. Available only ...\n",
       "1  good                      Ok lar... Joking wif u oni...\n",
       "2  spam  Free entry in 2 a wkly comp to win FA Cup fina...\n",
       "3  good  U dun say so early hor... U c already then say...\n",
       "4  good  Nah I don't think he goes to usf, he lives aro..."
      ]
     },
     "execution_count": 8,
     "metadata": {},
     "output_type": "execute_result"
    }
   ],
   "source": [
    "# Fix the headers / column labels\n",
    "smsData.columns = [\"label\", \"text\"]\n",
    "smsData.head()"
   ]
  },
  {
   "cell_type": "code",
   "execution_count": 9,
   "metadata": {},
   "outputs": [
    {
     "name": "stdout",
     "output_type": "stream",
     "text": [
      "<class 'pandas.core.frame.DataFrame'>\n",
      "RangeIndex: 5572 entries, 0 to 5571\n",
      "Data columns (total 2 columns):\n",
      "label    5572 non-null object\n",
      "text     5572 non-null object\n",
      "dtypes: object(2)\n",
      "memory usage: 87.2+ KB\n"
     ]
    }
   ],
   "source": [
    "# Basic information about the data\n",
    "smsData.info()"
   ]
  },
  {
   "cell_type": "markdown",
   "metadata": {},
   "source": [
    "Peak at some of the `spam` and `good` sms"
   ]
  },
  {
   "cell_type": "code",
   "execution_count": 10,
   "metadata": {},
   "outputs": [
    {
     "data": {
      "text/html": [
       "<div>\n",
       "<style scoped>\n",
       "    .dataframe tbody tr th:only-of-type {\n",
       "        vertical-align: middle;\n",
       "    }\n",
       "\n",
       "    .dataframe tbody tr th {\n",
       "        vertical-align: top;\n",
       "    }\n",
       "\n",
       "    .dataframe thead th {\n",
       "        text-align: right;\n",
       "    }\n",
       "</style>\n",
       "<table border=\"1\" class=\"dataframe\">\n",
       "  <thead>\n",
       "    <tr style=\"text-align: right;\">\n",
       "      <th></th>\n",
       "      <th>label</th>\n",
       "      <th>text</th>\n",
       "    </tr>\n",
       "  </thead>\n",
       "  <tbody>\n",
       "    <tr>\n",
       "      <td>2</td>\n",
       "      <td>spam</td>\n",
       "      <td>Free entry in 2 a wkly comp to win FA Cup fina...</td>\n",
       "    </tr>\n",
       "    <tr>\n",
       "      <td>5</td>\n",
       "      <td>spam</td>\n",
       "      <td>FreeMsg Hey there darling it's been 3 week's n...</td>\n",
       "    </tr>\n",
       "    <tr>\n",
       "      <td>8</td>\n",
       "      <td>spam</td>\n",
       "      <td>WINNER!! As a valued network customer you have...</td>\n",
       "    </tr>\n",
       "    <tr>\n",
       "      <td>9</td>\n",
       "      <td>spam</td>\n",
       "      <td>Had your mobile 11 months or more? U R entitle...</td>\n",
       "    </tr>\n",
       "    <tr>\n",
       "      <td>11</td>\n",
       "      <td>spam</td>\n",
       "      <td>SIX chances to win CASH! From 100 to 20,000 po...</td>\n",
       "    </tr>\n",
       "  </tbody>\n",
       "</table>\n",
       "</div>"
      ],
      "text/plain": [
       "   label                                               text\n",
       "2   spam  Free entry in 2 a wkly comp to win FA Cup fina...\n",
       "5   spam  FreeMsg Hey there darling it's been 3 week's n...\n",
       "8   spam  WINNER!! As a valued network customer you have...\n",
       "9   spam  Had your mobile 11 months or more? U R entitle...\n",
       "11  spam  SIX chances to win CASH! From 100 to 20,000 po..."
      ]
     },
     "execution_count": 10,
     "metadata": {},
     "output_type": "execute_result"
    }
   ],
   "source": [
    "condition = smsData['label'] == 'spam'\n",
    "smsData[condition].head()"
   ]
  },
  {
   "cell_type": "code",
   "execution_count": 11,
   "metadata": {},
   "outputs": [
    {
     "data": {
      "text/html": [
       "<div>\n",
       "<style scoped>\n",
       "    .dataframe tbody tr th:only-of-type {\n",
       "        vertical-align: middle;\n",
       "    }\n",
       "\n",
       "    .dataframe tbody tr th {\n",
       "        vertical-align: top;\n",
       "    }\n",
       "\n",
       "    .dataframe thead th {\n",
       "        text-align: right;\n",
       "    }\n",
       "</style>\n",
       "<table border=\"1\" class=\"dataframe\">\n",
       "  <thead>\n",
       "    <tr style=\"text-align: right;\">\n",
       "      <th></th>\n",
       "      <th>label</th>\n",
       "      <th>text</th>\n",
       "    </tr>\n",
       "  </thead>\n",
       "  <tbody>\n",
       "    <tr>\n",
       "      <td>0</td>\n",
       "      <td>good</td>\n",
       "      <td>Go until jurong point, crazy.. Available only ...</td>\n",
       "    </tr>\n",
       "    <tr>\n",
       "      <td>1</td>\n",
       "      <td>good</td>\n",
       "      <td>Ok lar... Joking wif u oni...</td>\n",
       "    </tr>\n",
       "    <tr>\n",
       "      <td>3</td>\n",
       "      <td>good</td>\n",
       "      <td>U dun say so early hor... U c already then say...</td>\n",
       "    </tr>\n",
       "    <tr>\n",
       "      <td>4</td>\n",
       "      <td>good</td>\n",
       "      <td>Nah I don't think he goes to usf, he lives aro...</td>\n",
       "    </tr>\n",
       "    <tr>\n",
       "      <td>6</td>\n",
       "      <td>good</td>\n",
       "      <td>Even my brother is not like to speak with me. ...</td>\n",
       "    </tr>\n",
       "  </tbody>\n",
       "</table>\n",
       "</div>"
      ],
      "text/plain": [
       "  label                                               text\n",
       "0  good  Go until jurong point, crazy.. Available only ...\n",
       "1  good                      Ok lar... Joking wif u oni...\n",
       "3  good  U dun say so early hor... U c already then say...\n",
       "4  good  Nah I don't think he goes to usf, he lives aro...\n",
       "6  good  Even my brother is not like to speak with me. ..."
      ]
     },
     "execution_count": 11,
     "metadata": {},
     "output_type": "execute_result"
    }
   ],
   "source": [
    "smsData[~condition].head()"
   ]
  },
  {
   "cell_type": "markdown",
   "metadata": {},
   "source": [
    "<a id='preprocessingbagofwords'></a>\n",
    "### Preprocessing for Bag Of Words"
   ]
  },
  {
   "cell_type": "markdown",
   "metadata": {},
   "source": [
    "Clean the text data with <a href='#preprocess()'>preprocess()</a> and apply `CountVectorizer`\n",
    "\n",
    "<a href='#preprocess()'>preprocess()</a> removes all punctuations and stopwords, converts all text to lowercase and reduces each word root form.\n",
    "\n",
    "[CountVectorizer](https://scikit-learn.org/stable/modules/generated/sklearn.feature_extraction.text.CountVectorizer.html): Convert a collection of text documents to a matrix of token counts\n",
    "\n",
    "See <a href='#countvectorizer'>here</a> for the result\n",
    "\n",
    "<a href='#top'>Back to top</a>"
   ]
  },
  {
   "cell_type": "code",
   "execution_count": 16,
   "metadata": {},
   "outputs": [],
   "source": [
    "# vectorize allows for vector input into function\n",
    "v_preprocess = np.vectorize(preprocess)\n",
    "\n",
    "cleanData, num_words, num_letters = v_preprocess(smsData['text'])\n",
    "# apply CountVectorizer, counting each word and phrase up to 5 words long\n",
    "cv = CountVectorizer(min_df=0., max_df=1., analyzer = 'word', ngram_range = (1, 5))\n",
    "cv_matrix = cv.fit_transform(cleanData)\n",
    "cv_matrix = cv_matrix.toarray()\n",
    "\n",
    "# get all unique words in the corpus\n",
    "vocab = cv.get_feature_names()"
   ]
  },
  {
   "cell_type": "code",
   "execution_count": 18,
   "metadata": {},
   "outputs": [
    {
     "data": {
      "text/plain": [
       "(5572, 118964)"
      ]
     },
     "execution_count": 18,
     "metadata": {},
     "output_type": "execute_result"
    }
   ],
   "source": [
    "cv_matrix.shape"
   ]
  },
  {
   "cell_type": "markdown",
   "metadata": {},
   "source": [
    "Here `num_words` and `num_letters` are compared with `label` to see if they should be used as features"
   ]
  },
  {
   "cell_type": "code",
   "execution_count": 13,
   "metadata": {},
   "outputs": [
    {
     "data": {
      "text/plain": [
       "<matplotlib.axes._subplots.AxesSubplot at 0x22eec47ae10>"
      ]
     },
     "execution_count": 13,
     "metadata": {},
     "output_type": "execute_result"
    },
    {
     "data": {
      "image/png": "[encoded data removed]",
      "text/plain": [
       "<Figure size 720x576 with 2 Axes>"
      ]
     },
     "metadata": {},
     "output_type": "display_data"
    }
   ],
   "source": [
    "smsData['num_words'] = num_words\n",
    "smsData['num_letters'] = num_letters\n",
    "byLetters = smsData.sort_values(by = 'num_letters', ascending = False)\n",
    "byWords = smsData.sort_values(by = 'num_letters', ascending = False)\n",
    "\n",
    "f, axes = plt.subplots(2, 1, figsize = (10, 8))\n",
    "\n",
    "sb.barplot(x = 'num_letters', y = 'label', data = byLetters, ax = axes[0])\n",
    "sb.barplot(x = 'num_words', y = 'label', data = byWords, ax = axes[1])"
   ]
  },
  {
   "cell_type": "markdown",
   "metadata": {},
   "source": [
    "Above shows higher `num_letters` and `num_words` seem to indicate `spam` sms"
   ]
  },
  {
   "cell_type": "markdown",
   "metadata": {},
   "source": [
    "<a id='countvectorizerresult'></a>\n",
    "<a href='#preprocessingbagofwords'>Back to preprocessing()</a>"
   ]
  },
  {
   "cell_type": "code",
   "execution_count": 14,
   "metadata": {},
   "outputs": [
    {
     "data": {
      "text/html": [
       "<div>\n",
       "<style scoped>\n",
       "    .dataframe tbody tr th:only-of-type {\n",
       "        vertical-align: middle;\n",
       "    }\n",
       "\n",
       "    .dataframe tbody tr th {\n",
       "        vertical-align: top;\n",
       "    }\n",
       "\n",
       "    .dataframe thead th {\n",
       "        text-align: right;\n",
       "    }\n",
       "</style>\n",
       "<table border=\"1\" class=\"dataframe\">\n",
       "  <thead>\n",
       "    <tr style=\"text-align: right;\">\n",
       "      <th></th>\n",
       "      <th>aa</th>\n",
       "      <th>aa exhaust</th>\n",
       "      <th>aa exhaust hang</th>\n",
       "      <th>aah</th>\n",
       "      <th>aah bless</th>\n",
       "      <th>aah bless hows</th>\n",
       "      <th>aah bless hows arm</th>\n",
       "      <th>aah cuddle</th>\n",
       "      <th>aah cuddle would</th>\n",
       "      <th>aah cuddle would lush</th>\n",
       "      <th>...</th>\n",
       "      <th>zs</th>\n",
       "      <th>zs subscription</th>\n",
       "      <th>zs subscription pw</th>\n",
       "      <th>zyada</th>\n",
       "      <th>zyada kisi</th>\n",
       "      <th>zyada kisi ko</th>\n",
       "      <th>zyada kisi ko kuch</th>\n",
       "      <th>zyada kisi ko kuch nahi</th>\n",
       "      <th>num_words</th>\n",
       "      <th>num_letters</th>\n",
       "    </tr>\n",
       "  </thead>\n",
       "  <tbody>\n",
       "    <tr>\n",
       "      <th>0</th>\n",
       "      <td>0</td>\n",
       "      <td>0</td>\n",
       "      <td>0</td>\n",
       "      <td>0</td>\n",
       "      <td>0</td>\n",
       "      <td>0</td>\n",
       "      <td>0</td>\n",
       "      <td>0</td>\n",
       "      <td>0</td>\n",
       "      <td>0</td>\n",
       "      <td>...</td>\n",
       "      <td>0</td>\n",
       "      <td>0</td>\n",
       "      <td>0</td>\n",
       "      <td>0</td>\n",
       "      <td>0</td>\n",
       "      <td>0</td>\n",
       "      <td>0</td>\n",
       "      <td>0</td>\n",
       "      <td>16</td>\n",
       "      <td>82</td>\n",
       "    </tr>\n",
       "    <tr>\n",
       "      <th>1</th>\n",
       "      <td>0</td>\n",
       "      <td>0</td>\n",
       "      <td>0</td>\n",
       "      <td>0</td>\n",
       "      <td>0</td>\n",
       "      <td>0</td>\n",
       "      <td>0</td>\n",
       "      <td>0</td>\n",
       "      <td>0</td>\n",
       "      <td>0</td>\n",
       "      <td>...</td>\n",
       "      <td>0</td>\n",
       "      <td>0</td>\n",
       "      <td>0</td>\n",
       "      <td>0</td>\n",
       "      <td>0</td>\n",
       "      <td>0</td>\n",
       "      <td>0</td>\n",
       "      <td>0</td>\n",
       "      <td>6</td>\n",
       "      <td>23</td>\n",
       "    </tr>\n",
       "    <tr>\n",
       "      <th>2</th>\n",
       "      <td>0</td>\n",
       "      <td>0</td>\n",
       "      <td>0</td>\n",
       "      <td>0</td>\n",
       "      <td>0</td>\n",
       "      <td>0</td>\n",
       "      <td>0</td>\n",
       "      <td>0</td>\n",
       "      <td>0</td>\n",
       "      <td>0</td>\n",
       "      <td>...</td>\n",
       "      <td>0</td>\n",
       "      <td>0</td>\n",
       "      <td>0</td>\n",
       "      <td>0</td>\n",
       "      <td>0</td>\n",
       "      <td>0</td>\n",
       "      <td>0</td>\n",
       "      <td>0</td>\n",
       "      <td>20</td>\n",
       "      <td>107</td>\n",
       "    </tr>\n",
       "    <tr>\n",
       "      <th>3</th>\n",
       "      <td>0</td>\n",
       "      <td>0</td>\n",
       "      <td>0</td>\n",
       "      <td>0</td>\n",
       "      <td>0</td>\n",
       "      <td>0</td>\n",
       "      <td>0</td>\n",
       "      <td>0</td>\n",
       "      <td>0</td>\n",
       "      <td>0</td>\n",
       "      <td>...</td>\n",
       "      <td>0</td>\n",
       "      <td>0</td>\n",
       "      <td>0</td>\n",
       "      <td>0</td>\n",
       "      <td>0</td>\n",
       "      <td>0</td>\n",
       "      <td>0</td>\n",
       "      <td>0</td>\n",
       "      <td>9</td>\n",
       "      <td>35</td>\n",
       "    </tr>\n",
       "    <tr>\n",
       "      <th>4</th>\n",
       "      <td>0</td>\n",
       "      <td>0</td>\n",
       "      <td>0</td>\n",
       "      <td>0</td>\n",
       "      <td>0</td>\n",
       "      <td>0</td>\n",
       "      <td>0</td>\n",
       "      <td>0</td>\n",
       "      <td>0</td>\n",
       "      <td>0</td>\n",
       "      <td>...</td>\n",
       "      <td>0</td>\n",
       "      <td>0</td>\n",
       "      <td>0</td>\n",
       "      <td>0</td>\n",
       "      <td>0</td>\n",
       "      <td>0</td>\n",
       "      <td>0</td>\n",
       "      <td>0</td>\n",
       "      <td>8</td>\n",
       "      <td>43</td>\n",
       "    </tr>\n",
       "  </tbody>\n",
       "</table>\n",
       "<p>5 rows × 118966 columns</p>\n",
       "</div>"
      ],
      "text/plain": [
       "   aa  aa exhaust  aa exhaust hang  aah  aah bless  aah bless hows  \\\n",
       "0   0           0                0    0          0               0   \n",
       "1   0           0                0    0          0               0   \n",
       "2   0           0                0    0          0               0   \n",
       "3   0           0                0    0          0               0   \n",
       "4   0           0                0    0          0               0   \n",
       "\n",
       "   aah bless hows arm  aah cuddle  aah cuddle would  aah cuddle would lush  \\\n",
       "0                   0           0                 0                      0   \n",
       "1                   0           0                 0                      0   \n",
       "2                   0           0                 0                      0   \n",
       "3                   0           0                 0                      0   \n",
       "4                   0           0                 0                      0   \n",
       "\n",
       "   ...  zs  zs subscription  zs subscription pw  zyada  zyada kisi  \\\n",
       "0  ...   0                0                   0      0           0   \n",
       "1  ...   0                0                   0      0           0   \n",
       "2  ...   0                0                   0      0           0   \n",
       "3  ...   0                0                   0      0           0   \n",
       "4  ...   0                0                   0      0           0   \n",
       "\n",
       "   zyada kisi ko  zyada kisi ko kuch  zyada kisi ko kuch nahi  num_words  \\\n",
       "0              0                   0                        0         16   \n",
       "1              0                   0                        0          6   \n",
       "2              0                   0                        0         20   \n",
       "3              0                   0                        0          9   \n",
       "4              0                   0                        0          8   \n",
       "\n",
       "   num_letters  \n",
       "0           82  \n",
       "1           23  \n",
       "2          107  \n",
       "3           35  \n",
       "4           43  \n",
       "\n",
       "[5 rows x 118966 columns]"
      ]
     },
     "execution_count": 14,
     "metadata": {},
     "output_type": "execute_result"
    }
   ],
   "source": [
    "# show document feature vectors\n",
    "features = pd.DataFrame(cv_matrix, columns=vocab)\n",
    "features['num_words'] = num_words\n",
    "features['num_letters'] = num_letters\n",
    "features.head()"
   ]
  },
  {
   "cell_type": "markdown",
   "metadata": {},
   "source": [
    "The above is a very sparse matrix that counts how many times a word or phrase appears in each sms, and the number of letters and words for each sms. In other words, `features['call']` only has values 0, 1, 2, 3 as call appears no more than 3 times per sms as seen below.\n",
    "<a id='#countvectorizerresult'></a>\n",
    "See <a href='#preprocessingtfidf'>here</a> for apply `Tfidf` instead of `CountVectorizer` to count the "
   ]
  },
  {
   "cell_type": "code",
   "execution_count": 15,
   "metadata": {},
   "outputs": [
    {
     "data": {
      "text/plain": [
       "0    5100\n",
       "1     444\n",
       "2      26\n",
       "3       2\n",
       "Name: call, dtype: int64"
      ]
     },
     "execution_count": 15,
     "metadata": {},
     "output_type": "execute_result"
    }
   ],
   "source": [
    "features.call.value_counts()"
   ]
  },
  {
   "cell_type": "markdown",
   "metadata": {},
   "source": [
    "<a id='modelselectionbagofwords'></a>\n",
    "### Model selection\n",
    "<a href='#top'>Back to top</a>"
   ]
  },
  {
   "cell_type": "markdown",
   "metadata": {},
   "source": [
    "Here `DecisionTreeClassifier` will be compared to `RandomForestClassifier` based mainly on `PPV` and `NPV` to determine better model.\n",
    "\n",
    "Intuitively:\n",
    "- `PPV == 1` represents zero `good` sms classified as `spam`\n",
    "- `NPV == 1` represents zero `spam` sms classified as `good`\n",
    "\n",
    "The aim should be to prioritize maximizing `PPV` over `NPV` although having both == 1 is ideal. In other words, considering email, it is important to have zero `good` emails going into the `spam` folder and having an occassional `spam` email in inbox is forgivable."
   ]
  },
  {
   "cell_type": "markdown",
   "metadata": {},
   "source": [
    "Description | Formula\n",
    "--- | ---\n",
    "sensitivity, recall, hit rate, or true positive rate (TPR) | TPR = $\\frac{TP}{P}$ = $\\frac{TP}{TP+FN}$ = 1-*FNR*\n",
    "specificity, selectivity or true negative rate (TNR) | TNR = $\\frac{TN}{N}$ = $\\frac{TN}{TN+FP}$ = 1-*FPR*\n",
    "precision or positive predictive value (PPV): | PPV = $\\frac{TP}{TP+FP}$ = 1-*FDR*\n",
    "negative predictive value (NPV): | NPV = $\\frac{TN}{TN+FN}$ = 1-*FOR*\n",
    "miss rate or false negative rate (FNR): | FNR = $\\frac{TN}{P}$ = $\\frac{FN}{FN+TP}$ = 1-*TPR*\n",
    "fall-out or false positive rate (FPR): | FPR = $\\frac{FP}{N}$ = $\\frac{FP}{FP+TN}$ = 1-*TNR*\n",
    "false discovery rate (FDR): | FDR = $\\frac{FP}{FP+TP}$ = 1-*PPV*\n",
    "false omission rate (FOR): | FOR = $\\frac{FN}{FN+TN}$ = 1-*NPV*\n",
    "Threat score (TS) or Critical Success Index (CSI): | TS = $\\frac{TP}{TP+FN+FP}$"
   ]
  },
  {
   "cell_type": "code",
   "execution_count": 16,
   "metadata": {},
   "outputs": [],
   "source": [
    "results = {'accuracy': [],\n",
    "           'ravel': [],\n",
    "           'PPV': [],\n",
    "           'NPV': [],\n",
    "           'auc': [],\n",
    "           'title': []}"
   ]
  },
  {
   "cell_type": "code",
   "execution_count": 17,
   "metadata": {},
   "outputs": [
    {
     "name": "stdout",
     "output_type": "stream",
     "text": [
      "Wall time: 23.7 s\n"
     ]
    }
   ],
   "source": [
    "%%time\n",
    "# convert to sparse matrix for efficient model trainig\n",
    "features = csr_matrix(features.values)\n",
    "response = smsData['label']"
   ]
  },
  {
   "cell_type": "code",
   "execution_count": 18,
   "metadata": {},
   "outputs": [
    {
     "data": {
      "image/png": "[encoded data removed]",
      "text/plain": [
       "<Figure size 432x288 with 2 Axes>"
      ]
     },
     "metadata": {},
     "output_type": "display_data"
    },
    {
     "data": {
      "image/png": "[encoded data removed]",
      "text/plain": [
       "<Figure size 360x360 with 1 Axes>"
      ]
     },
     "metadata": {},
     "output_type": "display_data"
    },
    {
     "name": "stderr",
     "output_type": "stream",
     "text": [
      "C:\\Users\\Nicholas\\AppData\\Roaming\\Python\\Python36\\site-packages\\sklearn\\ensemble\\forest.py:245: FutureWarning: The default value of n_estimators will change from 10 in version 0.20 to 100 in 0.22.\n",
      "  \"10 in version 0.20 to 100 in 0.22.\", FutureWarning)\n"
     ]
    },
    {
     "data": {
      "image/png": "[encoded data removed]",
      "text/plain": [
       "<Figure size 432x288 with 2 Axes>"
      ]
     },
     "metadata": {},
     "output_type": "display_data"
    },
    {
     "data": {
      "image/png": "[encoded data removed]",
      "text/plain": [
       "<Figure size 360x360 with 1 Axes>"
      ]
     },
     "metadata": {},
     "output_type": "display_data"
    },
    {
     "data": {
      "text/html": [
       "<div>\n",
       "<style scoped>\n",
       "    .dataframe tbody tr th:only-of-type {\n",
       "        vertical-align: middle;\n",
       "    }\n",
       "\n",
       "    .dataframe tbody tr th {\n",
       "        vertical-align: top;\n",
       "    }\n",
       "\n",
       "    .dataframe thead th {\n",
       "        text-align: right;\n",
       "    }\n",
       "</style>\n",
       "<table border=\"1\" class=\"dataframe\">\n",
       "  <thead>\n",
       "    <tr style=\"text-align: right;\">\n",
       "      <th></th>\n",
       "      <th>Titles</th>\n",
       "      <th>Classif Acc</th>\n",
       "      <th>TN, FP, FN, TP</th>\n",
       "      <th>PPV</th>\n",
       "      <th>NPV</th>\n",
       "      <th>AUC</th>\n",
       "    </tr>\n",
       "  </thead>\n",
       "  <tbody>\n",
       "    <tr>\n",
       "      <th>0</th>\n",
       "      <td>Bag_Of_Words_DecTree_Test</td>\n",
       "      <td>0.962</td>\n",
       "      <td>[1188, 20, 33, 152]</td>\n",
       "      <td>0.884</td>\n",
       "      <td>0.973</td>\n",
       "      <td>0.903</td>\n",
       "    </tr>\n",
       "    <tr>\n",
       "      <th>1</th>\n",
       "      <td>Bag_Of_Words_RandForest_Test</td>\n",
       "      <td>0.955</td>\n",
       "      <td>[1208, 0, 62, 123]</td>\n",
       "      <td>1.000</td>\n",
       "      <td>0.951</td>\n",
       "      <td>0.965</td>\n",
       "    </tr>\n",
       "  </tbody>\n",
       "</table>\n",
       "</div>"
      ],
      "text/plain": [
       "                         Titles  Classif Acc       TN, FP, FN, TP    PPV  \\\n",
       "0     Bag_Of_Words_DecTree_Test        0.962  [1188, 20, 33, 152]  0.884   \n",
       "1  Bag_Of_Words_RandForest_Test        0.955   [1208, 0, 62, 123]  1.000   \n",
       "\n",
       "     NPV    AUC  \n",
       "0  0.973  0.903  \n",
       "1  0.951  0.965  "
      ]
     },
     "execution_count": 18,
     "metadata": {},
     "output_type": "execute_result"
    }
   ],
   "source": [
    "results = run_model(features, response, DecisionTreeClassifier(random_state = 1), \n",
    "                    results, 'Bag_Of_Words_DecTree_Test')\n",
    "results = run_model(features, response, RandomForestClassifier(random_state = 1), \n",
    "                    results, 'Bag_Of_Words_RandForest_Test')\n",
    "results['summary']"
   ]
  },
  {
   "cell_type": "markdown",
   "metadata": {},
   "source": [
    "`RandomForest` outperforms `DecisionTree` here. Ideally, `area_under_curve`(`AUC`) should be == 1\n",
    "\n",
    "`AUC`: Rate of true positives and false positives for all threshold values of predicted labels and plot the results. [Read more](https://www.jamesmaino.com/post/simple-intuitive-explanation-of-roc-and-auc-curves/)"
   ]
  },
  {
   "cell_type": "markdown",
   "metadata": {},
   "source": [
    "<a id='preprocessingtfidf'></a>\n",
    "### Preprocessing for Tfidf"
   ]
  },
  {
   "cell_type": "markdown",
   "metadata": {},
   "source": [
    "[Tfidf](https://scikit-learn.org/stable/modules/generated/sklearn.feature_extraction.text.TfidfTransformer.html): Term-Frequency times Inverse-Document-Frequency. \n",
    "\n",
    "The goal of using tf-idf instead of the raw frequencies of occurrence of a token in a given document is to scale down the impact of tokens that occur very frequently in a given corpus and that are hence empirically less informative than features that occur in a small fraction of the training corpus.\n",
    "\n",
    "<a href='#countvectorizerresult'>Back to CountVectorizer result</a>\n",
    "\n",
    "<a href='#top'>Back to top</a>"
   ]
  },
  {
   "cell_type": "code",
   "execution_count": 19,
   "metadata": {},
   "outputs": [
    {
     "data": {
      "text/html": [
       "<div>\n",
       "<style scoped>\n",
       "    .dataframe tbody tr th:only-of-type {\n",
       "        vertical-align: middle;\n",
       "    }\n",
       "\n",
       "    .dataframe tbody tr th {\n",
       "        vertical-align: top;\n",
       "    }\n",
       "\n",
       "    .dataframe thead th {\n",
       "        text-align: right;\n",
       "    }\n",
       "</style>\n",
       "<table border=\"1\" class=\"dataframe\">\n",
       "  <thead>\n",
       "    <tr style=\"text-align: right;\">\n",
       "      <th></th>\n",
       "      <th>aa</th>\n",
       "      <th>aa exhaust</th>\n",
       "      <th>aa exhaust hang</th>\n",
       "      <th>aah</th>\n",
       "      <th>aah bless</th>\n",
       "      <th>aah bless hows</th>\n",
       "      <th>aah bless hows arm</th>\n",
       "      <th>aah cuddle</th>\n",
       "      <th>aah cuddle would</th>\n",
       "      <th>aah cuddle would lush</th>\n",
       "      <th>...</th>\n",
       "      <th>zs</th>\n",
       "      <th>zs subscription</th>\n",
       "      <th>zs subscription pw</th>\n",
       "      <th>zyada</th>\n",
       "      <th>zyada kisi</th>\n",
       "      <th>zyada kisi ko</th>\n",
       "      <th>zyada kisi ko kuch</th>\n",
       "      <th>zyada kisi ko kuch nahi</th>\n",
       "      <th>num_words</th>\n",
       "      <th>num_letters</th>\n",
       "    </tr>\n",
       "  </thead>\n",
       "  <tbody>\n",
       "    <tr>\n",
       "      <th>0</th>\n",
       "      <td>0.0</td>\n",
       "      <td>0.0</td>\n",
       "      <td>0.0</td>\n",
       "      <td>0.0</td>\n",
       "      <td>0.0</td>\n",
       "      <td>0.0</td>\n",
       "      <td>0.0</td>\n",
       "      <td>0.0</td>\n",
       "      <td>0.0</td>\n",
       "      <td>0.0</td>\n",
       "      <td>...</td>\n",
       "      <td>0.0</td>\n",
       "      <td>0.0</td>\n",
       "      <td>0.0</td>\n",
       "      <td>0.0</td>\n",
       "      <td>0.0</td>\n",
       "      <td>0.0</td>\n",
       "      <td>0.0</td>\n",
       "      <td>0.0</td>\n",
       "      <td>16</td>\n",
       "      <td>82</td>\n",
       "    </tr>\n",
       "    <tr>\n",
       "      <th>1</th>\n",
       "      <td>0.0</td>\n",
       "      <td>0.0</td>\n",
       "      <td>0.0</td>\n",
       "      <td>0.0</td>\n",
       "      <td>0.0</td>\n",
       "      <td>0.0</td>\n",
       "      <td>0.0</td>\n",
       "      <td>0.0</td>\n",
       "      <td>0.0</td>\n",
       "      <td>0.0</td>\n",
       "      <td>...</td>\n",
       "      <td>0.0</td>\n",
       "      <td>0.0</td>\n",
       "      <td>0.0</td>\n",
       "      <td>0.0</td>\n",
       "      <td>0.0</td>\n",
       "      <td>0.0</td>\n",
       "      <td>0.0</td>\n",
       "      <td>0.0</td>\n",
       "      <td>6</td>\n",
       "      <td>23</td>\n",
       "    </tr>\n",
       "    <tr>\n",
       "      <th>2</th>\n",
       "      <td>0.0</td>\n",
       "      <td>0.0</td>\n",
       "      <td>0.0</td>\n",
       "      <td>0.0</td>\n",
       "      <td>0.0</td>\n",
       "      <td>0.0</td>\n",
       "      <td>0.0</td>\n",
       "      <td>0.0</td>\n",
       "      <td>0.0</td>\n",
       "      <td>0.0</td>\n",
       "      <td>...</td>\n",
       "      <td>0.0</td>\n",
       "      <td>0.0</td>\n",
       "      <td>0.0</td>\n",
       "      <td>0.0</td>\n",
       "      <td>0.0</td>\n",
       "      <td>0.0</td>\n",
       "      <td>0.0</td>\n",
       "      <td>0.0</td>\n",
       "      <td>20</td>\n",
       "      <td>107</td>\n",
       "    </tr>\n",
       "    <tr>\n",
       "      <th>3</th>\n",
       "      <td>0.0</td>\n",
       "      <td>0.0</td>\n",
       "      <td>0.0</td>\n",
       "      <td>0.0</td>\n",
       "      <td>0.0</td>\n",
       "      <td>0.0</td>\n",
       "      <td>0.0</td>\n",
       "      <td>0.0</td>\n",
       "      <td>0.0</td>\n",
       "      <td>0.0</td>\n",
       "      <td>...</td>\n",
       "      <td>0.0</td>\n",
       "      <td>0.0</td>\n",
       "      <td>0.0</td>\n",
       "      <td>0.0</td>\n",
       "      <td>0.0</td>\n",
       "      <td>0.0</td>\n",
       "      <td>0.0</td>\n",
       "      <td>0.0</td>\n",
       "      <td>9</td>\n",
       "      <td>35</td>\n",
       "    </tr>\n",
       "    <tr>\n",
       "      <th>4</th>\n",
       "      <td>0.0</td>\n",
       "      <td>0.0</td>\n",
       "      <td>0.0</td>\n",
       "      <td>0.0</td>\n",
       "      <td>0.0</td>\n",
       "      <td>0.0</td>\n",
       "      <td>0.0</td>\n",
       "      <td>0.0</td>\n",
       "      <td>0.0</td>\n",
       "      <td>0.0</td>\n",
       "      <td>...</td>\n",
       "      <td>0.0</td>\n",
       "      <td>0.0</td>\n",
       "      <td>0.0</td>\n",
       "      <td>0.0</td>\n",
       "      <td>0.0</td>\n",
       "      <td>0.0</td>\n",
       "      <td>0.0</td>\n",
       "      <td>0.0</td>\n",
       "      <td>8</td>\n",
       "      <td>43</td>\n",
       "    </tr>\n",
       "  </tbody>\n",
       "</table>\n",
       "<p>5 rows × 118966 columns</p>\n",
       "</div>"
      ],
      "text/plain": [
       "    aa  aa exhaust  aa exhaust hang  aah  aah bless  aah bless hows  \\\n",
       "0  0.0         0.0              0.0  0.0        0.0             0.0   \n",
       "1  0.0         0.0              0.0  0.0        0.0             0.0   \n",
       "2  0.0         0.0              0.0  0.0        0.0             0.0   \n",
       "3  0.0         0.0              0.0  0.0        0.0             0.0   \n",
       "4  0.0         0.0              0.0  0.0        0.0             0.0   \n",
       "\n",
       "   aah bless hows arm  aah cuddle  aah cuddle would  aah cuddle would lush  \\\n",
       "0                 0.0         0.0               0.0                    0.0   \n",
       "1                 0.0         0.0               0.0                    0.0   \n",
       "2                 0.0         0.0               0.0                    0.0   \n",
       "3                 0.0         0.0               0.0                    0.0   \n",
       "4                 0.0         0.0               0.0                    0.0   \n",
       "\n",
       "   ...   zs  zs subscription  zs subscription pw  zyada  zyada kisi  \\\n",
       "0  ...  0.0              0.0                 0.0    0.0         0.0   \n",
       "1  ...  0.0              0.0                 0.0    0.0         0.0   \n",
       "2  ...  0.0              0.0                 0.0    0.0         0.0   \n",
       "3  ...  0.0              0.0                 0.0    0.0         0.0   \n",
       "4  ...  0.0              0.0                 0.0    0.0         0.0   \n",
       "\n",
       "   zyada kisi ko  zyada kisi ko kuch  zyada kisi ko kuch nahi  num_words  \\\n",
       "0            0.0                 0.0                      0.0         16   \n",
       "1            0.0                 0.0                      0.0          6   \n",
       "2            0.0                 0.0                      0.0         20   \n",
       "3            0.0                 0.0                      0.0          9   \n",
       "4            0.0                 0.0                      0.0          8   \n",
       "\n",
       "   num_letters  \n",
       "0           82  \n",
       "1           23  \n",
       "2          107  \n",
       "3           35  \n",
       "4           43  \n",
       "\n",
       "[5 rows x 118966 columns]"
      ]
     },
     "execution_count": 19,
     "metadata": {},
     "output_type": "execute_result"
    }
   ],
   "source": [
    "cleanData, num_words, num_letters = v_preprocess(smsData['text'])\n",
    "cv = CountVectorizer(min_df=0., max_df=1., analyzer = 'word', ngram_range = (1, 5))\n",
    "cv_matrix = cv.fit_transform(cleanData)\n",
    "\n",
    "# get all unique words in the corpus\n",
    "vocab = cv.get_feature_names()\n",
    "tfidf_transformed = TfidfTransformer().fit_transform(cv_matrix)\n",
    "tfidf_transformed = tfidf_transformed.toarray()\n",
    "\n",
    "features = pd.DataFrame(tfidf_transformed, columns=vocab)\n",
    "features['num_words'] = num_words\n",
    "features['num_letters'] = num_letters\n",
    "features.head()"
   ]
  },
  {
   "cell_type": "markdown",
   "metadata": {},
   "source": [
    "<a id='tfidf'></a>\n",
    "Using Tfidf instead of `CountVectorizer`\n",
    "\n",
    "<a href='#preprocessingbagofwords'>Back to preprocessing for Bag Of Words</a>\n",
    "\n",
    "<a href='#top'>Back to top</a>"
   ]
  },
  {
   "cell_type": "code",
   "execution_count": 20,
   "metadata": {},
   "outputs": [
    {
     "data": {
      "text/plain": [
       "0.000000    5100\n",
       "0.202223      30\n",
       "0.079436       7\n",
       "0.074982       4\n",
       "0.138217       4\n",
       "            ... \n",
       "0.053924       1\n",
       "0.044266       1\n",
       "0.172493       1\n",
       "0.069919       1\n",
       "0.049611       1\n",
       "Name: call, Length: 350, dtype: int64"
      ]
     },
     "execution_count": 20,
     "metadata": {},
     "output_type": "execute_result"
    }
   ],
   "source": [
    "features.call.value_counts()"
   ]
  },
  {
   "cell_type": "markdown",
   "metadata": {},
   "source": [
    "As seen, instead of counting how many times `call` appear in a sms, `Tfidf` takes into account the frequency of occurence and scales accordingly"
   ]
  },
  {
   "cell_type": "code",
   "execution_count": 21,
   "metadata": {},
   "outputs": [
    {
     "name": "stdout",
     "output_type": "stream",
     "text": [
      "Wall time: 29.3 s\n"
     ]
    }
   ],
   "source": [
    "%%time\n",
    "# convert to sparse matrix for more efficient training of model\n",
    "features = csr_matrix(features.values)"
   ]
  },
  {
   "cell_type": "markdown",
   "metadata": {},
   "source": [
    "<a id='modelselectiontfidf'></a>\n",
    "### Model Selection for Tfidf\n",
    "<a href='#top'>Back to top</a>"
   ]
  },
  {
   "cell_type": "code",
   "execution_count": 22,
   "metadata": {},
   "outputs": [
    {
     "data": {
      "image/png": "[encoded data removed]",
      "text/plain": [
       "<Figure size 432x288 with 2 Axes>"
      ]
     },
     "metadata": {},
     "output_type": "display_data"
    },
    {
     "data": {
      "image/png": "[encoded data removed]",
      "text/plain": [
       "<Figure size 360x360 with 1 Axes>"
      ]
     },
     "metadata": {},
     "output_type": "display_data"
    },
    {
     "name": "stderr",
     "output_type": "stream",
     "text": [
      "C:\\Users\\Nicholas\\AppData\\Roaming\\Python\\Python36\\site-packages\\sklearn\\ensemble\\forest.py:245: FutureWarning: The default value of n_estimators will change from 10 in version 0.20 to 100 in 0.22.\n",
      "  \"10 in version 0.20 to 100 in 0.22.\", FutureWarning)\n"
     ]
    },
    {
     "data": {
      "image/png": "[encoded data removed]",
      "text/plain": [
       "<Figure size 432x288 with 2 Axes>"
      ]
     },
     "metadata": {},
     "output_type": "display_data"
    },
    {
     "data": {
      "image/png": "[encoded data removed]",
      "text/plain": [
       "<Figure size 360x360 with 1 Axes>"
      ]
     },
     "metadata": {},
     "output_type": "display_data"
    },
    {
     "data": {
      "text/html": [
       "<div>\n",
       "<style scoped>\n",
       "    .dataframe tbody tr th:only-of-type {\n",
       "        vertical-align: middle;\n",
       "    }\n",
       "\n",
       "    .dataframe tbody tr th {\n",
       "        vertical-align: top;\n",
       "    }\n",
       "\n",
       "    .dataframe thead th {\n",
       "        text-align: right;\n",
       "    }\n",
       "</style>\n",
       "<table border=\"1\" class=\"dataframe\">\n",
       "  <thead>\n",
       "    <tr style=\"text-align: right;\">\n",
       "      <th></th>\n",
       "      <th>Titles</th>\n",
       "      <th>Classif Acc</th>\n",
       "      <th>TN, FP, FN, TP</th>\n",
       "      <th>PPV</th>\n",
       "      <th>NPV</th>\n",
       "      <th>AUC</th>\n",
       "    </tr>\n",
       "  </thead>\n",
       "  <tbody>\n",
       "    <tr>\n",
       "      <th>0</th>\n",
       "      <td>Bag_Of_Words_DecTree_Test</td>\n",
       "      <td>0.962</td>\n",
       "      <td>[1188, 20, 33, 152]</td>\n",
       "      <td>0.884</td>\n",
       "      <td>0.973</td>\n",
       "      <td>0.903</td>\n",
       "    </tr>\n",
       "    <tr>\n",
       "      <th>1</th>\n",
       "      <td>Bag_Of_Words_RandForest_Test</td>\n",
       "      <td>0.955</td>\n",
       "      <td>[1208, 0, 62, 123]</td>\n",
       "      <td>1.000</td>\n",
       "      <td>0.951</td>\n",
       "      <td>0.965</td>\n",
       "    </tr>\n",
       "    <tr>\n",
       "      <th>2</th>\n",
       "      <td>Tfidf_DecTree_Test</td>\n",
       "      <td>0.960</td>\n",
       "      <td>[1185, 23, 33, 152]</td>\n",
       "      <td>0.869</td>\n",
       "      <td>0.973</td>\n",
       "      <td>0.901</td>\n",
       "    </tr>\n",
       "    <tr>\n",
       "      <th>3</th>\n",
       "      <td>Tfidf_RandForest_Test</td>\n",
       "      <td>0.946</td>\n",
       "      <td>[1208, 0, 75, 110]</td>\n",
       "      <td>1.000</td>\n",
       "      <td>0.942</td>\n",
       "      <td>0.966</td>\n",
       "    </tr>\n",
       "  </tbody>\n",
       "</table>\n",
       "</div>"
      ],
      "text/plain": [
       "                         Titles  Classif Acc       TN, FP, FN, TP    PPV  \\\n",
       "0     Bag_Of_Words_DecTree_Test        0.962  [1188, 20, 33, 152]  0.884   \n",
       "1  Bag_Of_Words_RandForest_Test        0.955   [1208, 0, 62, 123]  1.000   \n",
       "2            Tfidf_DecTree_Test        0.960  [1185, 23, 33, 152]  0.869   \n",
       "3         Tfidf_RandForest_Test        0.946   [1208, 0, 75, 110]  1.000   \n",
       "\n",
       "     NPV    AUC  \n",
       "0  0.973  0.903  \n",
       "1  0.951  0.965  \n",
       "2  0.973  0.901  \n",
       "3  0.942  0.966  "
      ]
     },
     "execution_count": 22,
     "metadata": {},
     "output_type": "execute_result"
    }
   ],
   "source": [
    "results = run_model(features, response, DecisionTreeClassifier(random_state = 1),\n",
    "                    results, 'Tfidf_DecTree_Test')\n",
    "results = run_model(features, response, RandomForestClassifier(random_state = 1),\n",
    "                    results, 'Tfidf_RandForest_Test')\n",
    "results['summary']"
   ]
  },
  {
   "cell_type": "markdown",
   "metadata": {},
   "source": [
    "`RandomForest` outperforms `DecisionTree` again. Using `Bag Of Words` seem to outperform `Tfidf`. Next, optimize on both `Bag of Words` and `Tfidf` with `cross validation` to be sure"
   ]
  },
  {
   "cell_type": "markdown",
   "metadata": {},
   "source": [
    "<a id='optimization'></a>\n",
    "### Optimization\n",
    "<a href='#top'>Back to top</a>"
   ]
  },
  {
   "cell_type": "code",
   "execution_count": 23,
   "metadata": {
    "scrolled": true
   },
   "outputs": [
    {
     "name": "stdout",
     "output_type": "stream",
     "text": [
      "Wall time: 5min 34s\n"
     ]
    },
    {
     "data": {
      "text/plain": [
       "0.9802872927230436"
      ]
     },
     "execution_count": 23,
     "metadata": {},
     "output_type": "execute_result"
    }
   ],
   "source": [
    "%%time\n",
    "# try models with these parameters and choosing best\n",
    "parameters = {'min_samples_leaf': range(1, 3, 1), 'min_samples_split': range(2, 13, 2), \n",
    "              'n_estimators': range(10, 21, 5)}\n",
    "model = RandomForestClassifier(random_state=1)\n",
    "clf = GridSearchCV(model, parameters, scoring='roc_auc', cv = 5)\n",
    "clf.fit(features, response)\n",
    "clf.best_score_"
   ]
  },
  {
   "cell_type": "code",
   "execution_count": 24,
   "metadata": {},
   "outputs": [
    {
     "data": {
      "image/png": "[encoded data removed]",
      "text/plain": [
       "<Figure size 432x288 with 2 Axes>"
      ]
     },
     "metadata": {},
     "output_type": "display_data"
    },
    {
     "data": {
      "image/png": "[encoded data removed]",
      "text/plain": [
       "<Figure size 360x360 with 1 Axes>"
      ]
     },
     "metadata": {},
     "output_type": "display_data"
    },
    {
     "data": {
      "text/html": [
       "<div>\n",
       "<style scoped>\n",
       "    .dataframe tbody tr th:only-of-type {\n",
       "        vertical-align: middle;\n",
       "    }\n",
       "\n",
       "    .dataframe tbody tr th {\n",
       "        vertical-align: top;\n",
       "    }\n",
       "\n",
       "    .dataframe thead th {\n",
       "        text-align: right;\n",
       "    }\n",
       "</style>\n",
       "<table border=\"1\" class=\"dataframe\">\n",
       "  <thead>\n",
       "    <tr style=\"text-align: right;\">\n",
       "      <th></th>\n",
       "      <th>Titles</th>\n",
       "      <th>Classif Acc</th>\n",
       "      <th>TN, FP, FN, TP</th>\n",
       "      <th>PPV</th>\n",
       "      <th>NPV</th>\n",
       "      <th>AUC</th>\n",
       "    </tr>\n",
       "  </thead>\n",
       "  <tbody>\n",
       "    <tr>\n",
       "      <th>0</th>\n",
       "      <td>Bag_Of_Words_DecTree_Test</td>\n",
       "      <td>0.962</td>\n",
       "      <td>[1188, 20, 33, 152]</td>\n",
       "      <td>0.884</td>\n",
       "      <td>0.973</td>\n",
       "      <td>0.903</td>\n",
       "    </tr>\n",
       "    <tr>\n",
       "      <th>1</th>\n",
       "      <td>Bag_Of_Words_RandForest_Test</td>\n",
       "      <td>0.955</td>\n",
       "      <td>[1208, 0, 62, 123]</td>\n",
       "      <td>1.000</td>\n",
       "      <td>0.951</td>\n",
       "      <td>0.965</td>\n",
       "    </tr>\n",
       "    <tr>\n",
       "      <th>2</th>\n",
       "      <td>Tfidf_DecTree_Test</td>\n",
       "      <td>0.960</td>\n",
       "      <td>[1185, 23, 33, 152]</td>\n",
       "      <td>0.869</td>\n",
       "      <td>0.973</td>\n",
       "      <td>0.901</td>\n",
       "    </tr>\n",
       "    <tr>\n",
       "      <th>3</th>\n",
       "      <td>Tfidf_RandForest_Test</td>\n",
       "      <td>0.946</td>\n",
       "      <td>[1208, 0, 75, 110]</td>\n",
       "      <td>1.000</td>\n",
       "      <td>0.942</td>\n",
       "      <td>0.966</td>\n",
       "    </tr>\n",
       "    <tr>\n",
       "      <th>4</th>\n",
       "      <td>Tfidf_RandForest_Test_Optimized</td>\n",
       "      <td>0.962</td>\n",
       "      <td>[1208, 0, 53, 132]</td>\n",
       "      <td>1.000</td>\n",
       "      <td>0.958</td>\n",
       "      <td>0.993</td>\n",
       "    </tr>\n",
       "  </tbody>\n",
       "</table>\n",
       "</div>"
      ],
      "text/plain": [
       "                            Titles  Classif Acc       TN, FP, FN, TP    PPV  \\\n",
       "0        Bag_Of_Words_DecTree_Test        0.962  [1188, 20, 33, 152]  0.884   \n",
       "1     Bag_Of_Words_RandForest_Test        0.955   [1208, 0, 62, 123]  1.000   \n",
       "2               Tfidf_DecTree_Test        0.960  [1185, 23, 33, 152]  0.869   \n",
       "3            Tfidf_RandForest_Test        0.946   [1208, 0, 75, 110]  1.000   \n",
       "4  Tfidf_RandForest_Test_Optimized        0.962   [1208, 0, 53, 132]  1.000   \n",
       "\n",
       "     NPV    AUC  \n",
       "0  0.973  0.903  \n",
       "1  0.951  0.965  \n",
       "2  0.973  0.901  \n",
       "3  0.942  0.966  \n",
       "4  0.958  0.993  "
      ]
     },
     "execution_count": 24,
     "metadata": {},
     "output_type": "execute_result"
    }
   ],
   "source": [
    "# looking at the optimized model\n",
    "results = run_model(features, response, clf.best_estimator_,\n",
    "                    results, 'Tfidf_RandForest_Test_Optimized')\n",
    "results['summary']"
   ]
  },
  {
   "cell_type": "markdown",
   "metadata": {},
   "source": [
    "Repeat the process with `CountVectorizer`"
   ]
  },
  {
   "cell_type": "code",
   "execution_count": 25,
   "metadata": {},
   "outputs": [
    {
     "data": {
      "text/html": [
       "<div>\n",
       "<style scoped>\n",
       "    .dataframe tbody tr th:only-of-type {\n",
       "        vertical-align: middle;\n",
       "    }\n",
       "\n",
       "    .dataframe tbody tr th {\n",
       "        vertical-align: top;\n",
       "    }\n",
       "\n",
       "    .dataframe thead th {\n",
       "        text-align: right;\n",
       "    }\n",
       "</style>\n",
       "<table border=\"1\" class=\"dataframe\">\n",
       "  <thead>\n",
       "    <tr style=\"text-align: right;\">\n",
       "      <th></th>\n",
       "      <th>aa</th>\n",
       "      <th>aa exhaust</th>\n",
       "      <th>aa exhaust hang</th>\n",
       "      <th>aah</th>\n",
       "      <th>aah bless</th>\n",
       "      <th>aah bless hows</th>\n",
       "      <th>aah bless hows arm</th>\n",
       "      <th>aah cuddle</th>\n",
       "      <th>aah cuddle would</th>\n",
       "      <th>aah cuddle would lush</th>\n",
       "      <th>...</th>\n",
       "      <th>zs</th>\n",
       "      <th>zs subscription</th>\n",
       "      <th>zs subscription pw</th>\n",
       "      <th>zyada</th>\n",
       "      <th>zyada kisi</th>\n",
       "      <th>zyada kisi ko</th>\n",
       "      <th>zyada kisi ko kuch</th>\n",
       "      <th>zyada kisi ko kuch nahi</th>\n",
       "      <th>num_words</th>\n",
       "      <th>num_letters</th>\n",
       "    </tr>\n",
       "  </thead>\n",
       "  <tbody>\n",
       "    <tr>\n",
       "      <th>0</th>\n",
       "      <td>0</td>\n",
       "      <td>0</td>\n",
       "      <td>0</td>\n",
       "      <td>0</td>\n",
       "      <td>0</td>\n",
       "      <td>0</td>\n",
       "      <td>0</td>\n",
       "      <td>0</td>\n",
       "      <td>0</td>\n",
       "      <td>0</td>\n",
       "      <td>...</td>\n",
       "      <td>0</td>\n",
       "      <td>0</td>\n",
       "      <td>0</td>\n",
       "      <td>0</td>\n",
       "      <td>0</td>\n",
       "      <td>0</td>\n",
       "      <td>0</td>\n",
       "      <td>0</td>\n",
       "      <td>16</td>\n",
       "      <td>82</td>\n",
       "    </tr>\n",
       "    <tr>\n",
       "      <th>1</th>\n",
       "      <td>0</td>\n",
       "      <td>0</td>\n",
       "      <td>0</td>\n",
       "      <td>0</td>\n",
       "      <td>0</td>\n",
       "      <td>0</td>\n",
       "      <td>0</td>\n",
       "      <td>0</td>\n",
       "      <td>0</td>\n",
       "      <td>0</td>\n",
       "      <td>...</td>\n",
       "      <td>0</td>\n",
       "      <td>0</td>\n",
       "      <td>0</td>\n",
       "      <td>0</td>\n",
       "      <td>0</td>\n",
       "      <td>0</td>\n",
       "      <td>0</td>\n",
       "      <td>0</td>\n",
       "      <td>6</td>\n",
       "      <td>23</td>\n",
       "    </tr>\n",
       "    <tr>\n",
       "      <th>2</th>\n",
       "      <td>0</td>\n",
       "      <td>0</td>\n",
       "      <td>0</td>\n",
       "      <td>0</td>\n",
       "      <td>0</td>\n",
       "      <td>0</td>\n",
       "      <td>0</td>\n",
       "      <td>0</td>\n",
       "      <td>0</td>\n",
       "      <td>0</td>\n",
       "      <td>...</td>\n",
       "      <td>0</td>\n",
       "      <td>0</td>\n",
       "      <td>0</td>\n",
       "      <td>0</td>\n",
       "      <td>0</td>\n",
       "      <td>0</td>\n",
       "      <td>0</td>\n",
       "      <td>0</td>\n",
       "      <td>20</td>\n",
       "      <td>107</td>\n",
       "    </tr>\n",
       "    <tr>\n",
       "      <th>3</th>\n",
       "      <td>0</td>\n",
       "      <td>0</td>\n",
       "      <td>0</td>\n",
       "      <td>0</td>\n",
       "      <td>0</td>\n",
       "      <td>0</td>\n",
       "      <td>0</td>\n",
       "      <td>0</td>\n",
       "      <td>0</td>\n",
       "      <td>0</td>\n",
       "      <td>...</td>\n",
       "      <td>0</td>\n",
       "      <td>0</td>\n",
       "      <td>0</td>\n",
       "      <td>0</td>\n",
       "      <td>0</td>\n",
       "      <td>0</td>\n",
       "      <td>0</td>\n",
       "      <td>0</td>\n",
       "      <td>9</td>\n",
       "      <td>35</td>\n",
       "    </tr>\n",
       "    <tr>\n",
       "      <th>4</th>\n",
       "      <td>0</td>\n",
       "      <td>0</td>\n",
       "      <td>0</td>\n",
       "      <td>0</td>\n",
       "      <td>0</td>\n",
       "      <td>0</td>\n",
       "      <td>0</td>\n",
       "      <td>0</td>\n",
       "      <td>0</td>\n",
       "      <td>0</td>\n",
       "      <td>...</td>\n",
       "      <td>0</td>\n",
       "      <td>0</td>\n",
       "      <td>0</td>\n",
       "      <td>0</td>\n",
       "      <td>0</td>\n",
       "      <td>0</td>\n",
       "      <td>0</td>\n",
       "      <td>0</td>\n",
       "      <td>8</td>\n",
       "      <td>43</td>\n",
       "    </tr>\n",
       "  </tbody>\n",
       "</table>\n",
       "<p>5 rows × 118966 columns</p>\n",
       "</div>"
      ],
      "text/plain": [
       "   aa  aa exhaust  aa exhaust hang  aah  aah bless  aah bless hows  \\\n",
       "0   0           0                0    0          0               0   \n",
       "1   0           0                0    0          0               0   \n",
       "2   0           0                0    0          0               0   \n",
       "3   0           0                0    0          0               0   \n",
       "4   0           0                0    0          0               0   \n",
       "\n",
       "   aah bless hows arm  aah cuddle  aah cuddle would  aah cuddle would lush  \\\n",
       "0                   0           0                 0                      0   \n",
       "1                   0           0                 0                      0   \n",
       "2                   0           0                 0                      0   \n",
       "3                   0           0                 0                      0   \n",
       "4                   0           0                 0                      0   \n",
       "\n",
       "   ...  zs  zs subscription  zs subscription pw  zyada  zyada kisi  \\\n",
       "0  ...   0                0                   0      0           0   \n",
       "1  ...   0                0                   0      0           0   \n",
       "2  ...   0                0                   0      0           0   \n",
       "3  ...   0                0                   0      0           0   \n",
       "4  ...   0                0                   0      0           0   \n",
       "\n",
       "   zyada kisi ko  zyada kisi ko kuch  zyada kisi ko kuch nahi  num_words  \\\n",
       "0              0                   0                        0         16   \n",
       "1              0                   0                        0          6   \n",
       "2              0                   0                        0         20   \n",
       "3              0                   0                        0          9   \n",
       "4              0                   0                        0          8   \n",
       "\n",
       "   num_letters  \n",
       "0           82  \n",
       "1           23  \n",
       "2          107  \n",
       "3           35  \n",
       "4           43  \n",
       "\n",
       "[5 rows x 118966 columns]"
      ]
     },
     "execution_count": 25,
     "metadata": {},
     "output_type": "execute_result"
    }
   ],
   "source": [
    "cleanData, num_words, num_letters = v_preprocess(smsData['text'])\n",
    "cv = CountVectorizer(min_df=0., max_df=1., analyzer = 'word', ngram_range = (1, 5))\n",
    "cv_matrix = cv.fit_transform(cleanData)\n",
    "cv_matrix = cv_matrix.toarray()\n",
    "\n",
    "# get all unique words in the corpus\n",
    "vocab = cv.get_feature_names()\n",
    "\n",
    "features = pd.DataFrame(cv_matrix, columns=vocab)\n",
    "features['num_words'] = num_words\n",
    "features['num_letters'] = num_letters\n",
    "features.head()"
   ]
  },
  {
   "cell_type": "code",
   "execution_count": 26,
   "metadata": {},
   "outputs": [
    {
     "name": "stdout",
     "output_type": "stream",
     "text": [
      "Wall time: 34.1 s\n"
     ]
    }
   ],
   "source": [
    "%%time\n",
    "features = csr_matrix(features.values)"
   ]
  },
  {
   "cell_type": "code",
   "execution_count": 27,
   "metadata": {},
   "outputs": [
    {
     "data": {
      "image/png": "[encoded data removed]",
      "text/plain": [
       "<Figure size 432x288 with 2 Axes>"
      ]
     },
     "metadata": {},
     "output_type": "display_data"
    },
    {
     "data": {
      "image/png": "[encoded data removed]",
      "text/plain": [
       "<Figure size 360x360 with 1 Axes>"
      ]
     },
     "metadata": {},
     "output_type": "display_data"
    },
    {
     "name": "stdout",
     "output_type": "stream",
     "text": [
      "Wall time: 6min 1s\n"
     ]
    },
    {
     "data": {
      "text/html": [
       "<div>\n",
       "<style scoped>\n",
       "    .dataframe tbody tr th:only-of-type {\n",
       "        vertical-align: middle;\n",
       "    }\n",
       "\n",
       "    .dataframe tbody tr th {\n",
       "        vertical-align: top;\n",
       "    }\n",
       "\n",
       "    .dataframe thead th {\n",
       "        text-align: right;\n",
       "    }\n",
       "</style>\n",
       "<table border=\"1\" class=\"dataframe\">\n",
       "  <thead>\n",
       "    <tr style=\"text-align: right;\">\n",
       "      <th></th>\n",
       "      <th>Titles</th>\n",
       "      <th>Classif Acc</th>\n",
       "      <th>TN, FP, FN, TP</th>\n",
       "      <th>PPV</th>\n",
       "      <th>NPV</th>\n",
       "      <th>AUC</th>\n",
       "    </tr>\n",
       "  </thead>\n",
       "  <tbody>\n",
       "    <tr>\n",
       "      <th>0</th>\n",
       "      <td>Bag_Of_Words_DecTree_Test</td>\n",
       "      <td>0.962</td>\n",
       "      <td>[1188, 20, 33, 152]</td>\n",
       "      <td>0.884</td>\n",
       "      <td>0.973</td>\n",
       "      <td>0.903</td>\n",
       "    </tr>\n",
       "    <tr>\n",
       "      <th>1</th>\n",
       "      <td>Bag_Of_Words_RandForest_Test</td>\n",
       "      <td>0.955</td>\n",
       "      <td>[1208, 0, 62, 123]</td>\n",
       "      <td>1.000</td>\n",
       "      <td>0.951</td>\n",
       "      <td>0.965</td>\n",
       "    </tr>\n",
       "    <tr>\n",
       "      <th>2</th>\n",
       "      <td>Tfidf_DecTree_Test</td>\n",
       "      <td>0.960</td>\n",
       "      <td>[1185, 23, 33, 152]</td>\n",
       "      <td>0.869</td>\n",
       "      <td>0.973</td>\n",
       "      <td>0.901</td>\n",
       "    </tr>\n",
       "    <tr>\n",
       "      <th>3</th>\n",
       "      <td>Tfidf_RandForest_Test</td>\n",
       "      <td>0.946</td>\n",
       "      <td>[1208, 0, 75, 110]</td>\n",
       "      <td>1.000</td>\n",
       "      <td>0.942</td>\n",
       "      <td>0.966</td>\n",
       "    </tr>\n",
       "    <tr>\n",
       "      <th>4</th>\n",
       "      <td>Tfidf_RandForest_Test_Optimized</td>\n",
       "      <td>0.962</td>\n",
       "      <td>[1208, 0, 53, 132]</td>\n",
       "      <td>1.000</td>\n",
       "      <td>0.958</td>\n",
       "      <td>0.993</td>\n",
       "    </tr>\n",
       "    <tr>\n",
       "      <th>5</th>\n",
       "      <td>Bag_Of_Words_RandForest_Test_Optimized</td>\n",
       "      <td>0.956</td>\n",
       "      <td>[1208, 0, 61, 124]</td>\n",
       "      <td>1.000</td>\n",
       "      <td>0.952</td>\n",
       "      <td>0.987</td>\n",
       "    </tr>\n",
       "  </tbody>\n",
       "</table>\n",
       "</div>"
      ],
      "text/plain": [
       "                                   Titles  Classif Acc       TN, FP, FN, TP  \\\n",
       "0               Bag_Of_Words_DecTree_Test        0.962  [1188, 20, 33, 152]   \n",
       "1            Bag_Of_Words_RandForest_Test        0.955   [1208, 0, 62, 123]   \n",
       "2                      Tfidf_DecTree_Test        0.960  [1185, 23, 33, 152]   \n",
       "3                   Tfidf_RandForest_Test        0.946   [1208, 0, 75, 110]   \n",
       "4         Tfidf_RandForest_Test_Optimized        0.962   [1208, 0, 53, 132]   \n",
       "5  Bag_Of_Words_RandForest_Test_Optimized        0.956   [1208, 0, 61, 124]   \n",
       "\n",
       "     PPV    NPV    AUC  \n",
       "0  0.884  0.973  0.903  \n",
       "1  1.000  0.951  0.965  \n",
       "2  0.869  0.973  0.901  \n",
       "3  1.000  0.942  0.966  \n",
       "4  1.000  0.958  0.993  \n",
       "5  1.000  0.952  0.987  "
      ]
     },
     "execution_count": 27,
     "metadata": {},
     "output_type": "execute_result"
    }
   ],
   "source": [
    "%%time\n",
    "\n",
    "parameters = {'min_samples_leaf': range(1, 3, 1), 'min_samples_split': range(2, 13, 2), \n",
    "              'n_estimators': range(10, 21, 5)}\n",
    "model = RandomForestClassifier(random_state=1)\n",
    "clf = GridSearchCV(model, parameters, scoring='roc_auc', cv = 5)\n",
    "clf.fit(features, response)\n",
    "clf.best_score_\n",
    "\n",
    "results = run_model(features, response, clf.best_estimator_,\n",
    "                    results, 'Bag_Of_Words_RandForest_Test_Optimized')\n",
    "results['summary']"
   ]
  },
  {
   "cell_type": "markdown",
   "metadata": {},
   "source": [
    "From the results, using `Tfidf` and `RandomForest` with optimized parameters give the best results\n",
    "\n",
    "- `PPV` == 1 meaning zero `good` messages classified as `spam`\n",
    "- `NPV` == 0.958, considering the email example again, meaning 0.042% of spam messages got through into inbox"
   ]
  },
  {
   "cell_type": "markdown",
   "metadata": {},
   "source": [
    "<a href='#top'>Back to top</a>"
   ]
  },
  {
   "cell_type": "code",
   "execution_count": null,
   "metadata": {},
   "outputs": [],
   "source": []
  }
 ],
 "metadata": {
  "kernelspec": {
   "display_name": "Python 3",
   "language": "python",
   "name": "python3"
  },
  "language_info": {
   "codemirror_mode": {
    "name": "ipython",
    "version": 3
   },
   "file_extension": ".py",
   "mimetype": "text/x-python",
   "name": "python",
   "nbconvert_exporter": "python",
   "pygments_lexer": "ipython3",
   "version": "3.7.4"
  }
 },
 "nbformat": 4,
 "nbformat_minor": 2
}
